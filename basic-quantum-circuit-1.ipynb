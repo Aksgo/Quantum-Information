{
 "cells": [
  {
   "cell_type": "code",
   "execution_count": 1,
   "id": "a9b9eb64",
   "metadata": {},
   "outputs": [
    {
     "name": "stdout",
     "output_type": "stream",
     "text": [
      "Requirement already satisfied: qiskit in c:\\users\\akshi\\anaconda3\\lib\\site-packages (1.2.2)\n",
      "Requirement already satisfied: rustworkx>=0.15.0 in c:\\users\\akshi\\anaconda3\\lib\\site-packages (from qiskit) (0.15.1)\n",
      "Requirement already satisfied: numpy<3,>=1.17 in c:\\users\\akshi\\anaconda3\\lib\\site-packages (from qiskit) (1.24.3)\n",
      "Requirement already satisfied: scipy>=1.5 in c:\\users\\akshi\\anaconda3\\lib\\site-packages (from qiskit) (1.11.1)\n",
      "Requirement already satisfied: sympy>=1.3 in c:\\users\\akshi\\anaconda3\\lib\\site-packages (from qiskit) (1.11.1)\n",
      "Requirement already satisfied: dill>=0.3 in c:\\users\\akshi\\anaconda3\\lib\\site-packages (from qiskit) (0.3.6)\n",
      "Requirement already satisfied: python-dateutil>=2.8.0 in c:\\users\\akshi\\anaconda3\\lib\\site-packages (from qiskit) (2.8.2)\n",
      "Requirement already satisfied: stevedore>=3.0.0 in c:\\users\\akshi\\anaconda3\\lib\\site-packages (from qiskit) (5.3.0)\n",
      "Requirement already satisfied: typing-extensions in c:\\users\\akshi\\anaconda3\\lib\\site-packages (from qiskit) (4.7.1)\n",
      "Requirement already satisfied: symengine>=0.11 in c:\\users\\akshi\\anaconda3\\lib\\site-packages (from qiskit) (0.11.0)\n",
      "Requirement already satisfied: six>=1.5 in c:\\users\\akshi\\anaconda3\\lib\\site-packages (from python-dateutil>=2.8.0->qiskit) (1.16.0)\n",
      "Requirement already satisfied: pbr>=2.0.0 in c:\\users\\akshi\\anaconda3\\lib\\site-packages (from stevedore>=3.0.0->qiskit) (6.1.0)\n",
      "Requirement already satisfied: mpmath>=0.19 in c:\\users\\akshi\\anaconda3\\lib\\site-packages (from sympy>=1.3->qiskit) (1.3.0)\n"
     ]
    }
   ],
   "source": [
    "!pip install qiskit"
   ]
  },
  {
   "cell_type": "code",
   "execution_count": 2,
   "id": "cf6fbd0c",
   "metadata": {},
   "outputs": [],
   "source": [
    "import numpy as np\n",
    "from qiskit import QuantumRegister\n",
    "from qiskit.quantum_info import Statevector as sv, Operator as opr\n",
    "from qiskit.visualization import plot_histogram\n",
    "from qiskit import QuantumCircuit"
   ]
  },
  {
   "cell_type": "code",
   "execution_count": 3,
   "id": "dd4604b6",
   "metadata": {},
   "outputs": [
    {
     "data": {
      "text/plain": [
       "array([[2, 1],\n",
       "       [1, 0]])"
      ]
     },
     "execution_count": 3,
     "metadata": {},
     "output_type": "execute_result"
    }
   ],
   "source": [
    "M1 = np.array([[1,1],[1,0]])\n",
    "M2 = np.array([[1,0],[1,1]])\n",
    "M3 = np.matmul(M1,M2)\n",
    "M3"
   ]
  },
  {
   "cell_type": "code",
   "execution_count": 4,
   "id": "85296207",
   "metadata": {},
   "outputs": [],
   "source": [
    "u = sv([1/np.sqrt(2), 1/np.sqrt(2)])\n",
    "v = sv([(1+2.0j)/3, -2.0/3])\n",
    "w = sv([1/3, 2/3])"
   ]
  },
  {
   "cell_type": "code",
   "execution_count": 5,
   "id": "f2e4ff6c",
   "metadata": {},
   "outputs": [
    {
     "data": {
      "text/plain": [
       "[0.70710678+0.j,0.70710678+0.j]"
      ]
     },
     "metadata": {},
     "output_type": "display_data"
    },
    {
     "data": {
      "text/latex": [
       "$$(\\frac{1}{3} + \\frac{2 i}{3}) |0\\rangle- \\frac{2}{3} |1\\rangle$$"
      ],
      "text/plain": [
       "<IPython.core.display.Latex object>"
      ]
     },
     "metadata": {},
     "output_type": "display_data"
    }
   ],
   "source": [
    "display(u.draw(\"text\"))\n",
    "display(v.draw(\"latex\"))"
   ]
  },
  {
   "cell_type": "code",
   "execution_count": 6,
   "id": "e6d5dde3",
   "metadata": {},
   "outputs": [
    {
     "name": "stdout",
     "output_type": "stream",
     "text": [
      "False\n"
     ]
    }
   ],
   "source": [
    "print(w.is_valid())"
   ]
  },
  {
   "cell_type": "code",
   "execution_count": 7,
   "id": "93459222",
   "metadata": {},
   "outputs": [
    {
     "ename": "ValueError",
     "evalue": "probabilities do not sum to 1",
     "output_type": "error",
     "traceback": [
      "\u001b[1;31m---------------------------------------------------------------------------\u001b[0m",
      "\u001b[1;31mValueError\u001b[0m                                Traceback (most recent call last)",
      "Cell \u001b[1;32mIn[7], line 2\u001b[0m\n\u001b[0;32m      1\u001b[0m \u001b[38;5;66;03m#measuring the qubit\u001b[39;00m\n\u001b[1;32m----> 2\u001b[0m w\u001b[38;5;241m.\u001b[39mmeasure()\n",
      "File \u001b[1;32m~\\anaconda3\\Lib\\site-packages\\qiskit\\quantum_info\\states\\quantum_state.py:327\u001b[0m, in \u001b[0;36mQuantumState.measure\u001b[1;34m(self, qargs)\u001b[0m\n\u001b[0;32m    325\u001b[0m dims \u001b[38;5;241m=\u001b[39m \u001b[38;5;28mself\u001b[39m\u001b[38;5;241m.\u001b[39mdims(qargs)\n\u001b[0;32m    326\u001b[0m probs \u001b[38;5;241m=\u001b[39m \u001b[38;5;28mself\u001b[39m\u001b[38;5;241m.\u001b[39mprobabilities(qargs)\n\u001b[1;32m--> 327\u001b[0m sample \u001b[38;5;241m=\u001b[39m \u001b[38;5;28mself\u001b[39m\u001b[38;5;241m.\u001b[39m_rng\u001b[38;5;241m.\u001b[39mchoice(\u001b[38;5;28mlen\u001b[39m(probs), p\u001b[38;5;241m=\u001b[39mprobs, size\u001b[38;5;241m=\u001b[39m\u001b[38;5;241m1\u001b[39m)\n\u001b[0;32m    329\u001b[0m \u001b[38;5;66;03m# Format outcome\u001b[39;00m\n\u001b[0;32m    330\u001b[0m outcome \u001b[38;5;241m=\u001b[39m \u001b[38;5;28mself\u001b[39m\u001b[38;5;241m.\u001b[39m_index_to_ket_array(sample, \u001b[38;5;28mself\u001b[39m\u001b[38;5;241m.\u001b[39mdims(qargs), string_labels\u001b[38;5;241m=\u001b[39m\u001b[38;5;28;01mTrue\u001b[39;00m)[\u001b[38;5;241m0\u001b[39m]\n",
      "File \u001b[1;32m_generator.pyx:754\u001b[0m, in \u001b[0;36mnumpy.random._generator.Generator.choice\u001b[1;34m()\u001b[0m\n",
      "\u001b[1;31mValueError\u001b[0m: probabilities do not sum to 1"
     ]
    }
   ],
   "source": [
    "#measuring the qubit\n",
    "w.measure()\n",
    "#mesuring the invlid qubit gives error"
   ]
  },
  {
   "cell_type": "code",
   "execution_count": 17,
   "id": "a6aea259",
   "metadata": {},
   "outputs": [
    {
     "name": "stdout",
     "output_type": "stream",
     "text": [
      "('0', Statevector([1.+0.j, 0.+0.j],\n",
      "            dims=(2,)))\n",
      "('1', Statevector([0.+0.j, 1.+0.j],\n",
      "            dims=(2,)))\n"
     ]
    }
   ],
   "source": [
    "print(u.measure())\n",
    "print(u.measure())\n",
    "#measurement may be different as they are probabilistic"
   ]
  },
  {
   "cell_type": "code",
   "execution_count": 19,
   "id": "cf7fc997",
   "metadata": {},
   "outputs": [
    {
     "data": {
      "text/plain": [
       "{'0': 545, '1': 455}"
      ]
     },
     "metadata": {},
     "output_type": "display_data"
    },
    {
     "data": {
      "image/png": "[encoded data removed]",
      "text/plain": [
       "<Figure size 640x480 with 1 Axes>"
      ]
     },
     "execution_count": 19,
     "metadata": {},
     "output_type": "execute_result"
    }
   ],
   "source": [
    "#displaying count after certain trials\n",
    "stats = v.sample_counts(1000)\n",
    "display(stats)\n",
    "plot_histogram(stats)"
   ]
  },
  {
   "cell_type": "code",
   "execution_count": 20,
   "id": "ccc9754b",
   "metadata": {},
   "outputs": [
    {
     "data": {
      "text/latex": [
       "$$\n",
       "\n",
       "\\begin{bmatrix}\n",
       "0 & 1  \\\\\n",
       " 1 & 0  \\\\\n",
       " \\end{bmatrix}\n",
       "$$"
      ],
      "text/plain": [
       "<IPython.core.display.Latex object>"
      ]
     },
     "metadata": {},
     "output_type": "display_data"
    },
    {
     "data": {
      "text/latex": [
       "$$(\\frac{1}{3} + \\frac{2 i}{3}) |0\\rangle- \\frac{2}{3} |1\\rangle$$"
      ],
      "text/plain": [
       "<IPython.core.display.Latex object>"
      ]
     },
     "metadata": {},
     "output_type": "display_data"
    },
    {
     "data": {
      "text/latex": [
       "$$- \\frac{2}{3} |0\\rangle+(\\frac{1}{3} + \\frac{2 i}{3}) |1\\rangle$$"
      ],
      "text/plain": [
       "<IPython.core.display.Latex object>"
      ]
     },
     "metadata": {},
     "output_type": "display_data"
    }
   ],
   "source": [
    "#applying operator on statevector\n",
    "#like applying X gate of pauli x phase\n",
    "X = opr([[0,1],[1,0]])\n",
    "display(X.draw(\"latex\"))\n",
    "display(v.draw(\"latex\"))\n",
    "y = v.evolve(X)\n",
    "display(y.draw(\"latex\"))"
   ]
  },
  {
   "cell_type": "code",
   "execution_count": 21,
   "id": "82ce2cad",
   "metadata": {},
   "outputs": [
    {
     "data": {
      "text/latex": [
       "$$\n",
       "\n",
       "\\begin{bmatrix}\n",
       "1 & 0  \\\\\n",
       " 0 & -1  \\\\\n",
       " \\end{bmatrix}\n",
       "$$"
      ],
      "text/plain": [
       "<IPython.core.display.Latex object>"
      ]
     },
     "metadata": {},
     "output_type": "display_data"
    },
    {
     "data": {
      "text/latex": [
       "$$(\\frac{1}{3} + \\frac{2 i}{3}) |0\\rangle- \\frac{2}{3} |1\\rangle$$"
      ],
      "text/plain": [
       "<IPython.core.display.Latex object>"
      ]
     },
     "metadata": {},
     "output_type": "display_data"
    },
    {
     "data": {
      "text/latex": [
       "$$(\\frac{1}{3} + \\frac{2 i}{3}) |0\\rangle+\\frac{2}{3} |1\\rangle$$"
      ],
      "text/plain": [
       "<IPython.core.display.Latex object>"
      ]
     },
     "metadata": {},
     "output_type": "display_data"
    }
   ],
   "source": [
    "#applying Z gate\n",
    "Z = opr([[1,0],[0,-1]])\n",
    "display(Z.draw(\"latex\"))\n",
    "display(v.draw(\"latex\"))\n",
    "v2 = v.evolve(Z)\n",
    "display(v2.draw(\"latex\"))"
   ]
  },
  {
   "cell_type": "code",
   "execution_count": 22,
   "id": "ad102f63",
   "metadata": {},
   "outputs": [
    {
     "data": {
      "text/html": [
       "<pre style=\"word-wrap: normal;white-space: pre;background: #fff0;line-height: 1.1;font-family: &quot;Courier New&quot;,Courier,monospace\">   ┌───┐┌───┐┌───┐┌───┐\n",
       "q: ┤ X ├┤ H ├┤ T ├┤ S ├\n",
       "   └───┘└───┘└───┘└───┘</pre>"
      ],
      "text/plain": [
       "   ┌───┐┌───┐┌───┐┌───┐\n",
       "q: ┤ X ├┤ H ├┤ T ├┤ S ├\n",
       "   └───┘└───┘└───┘└───┘"
      ]
     },
     "metadata": {},
     "output_type": "display_data"
    }
   ],
   "source": [
    "#we can make a simple quatum circuit with composition of few gates\n",
    "circuit = QuantumCircuit(1)\n",
    "circuit.x(0)\n",
    "circuit.h(0)\n",
    "circuit.t(0)\n",
    "circuit.s(0)\n",
    "display(circuit.draw())"
   ]
  },
  {
   "cell_type": "code",
   "execution_count": 23,
   "id": "ac3fbb6a",
   "metadata": {},
   "outputs": [
    {
     "data": {
      "text/latex": [
       "$$\\frac{\\sqrt{2}}{2} |0\\rangle+(\\frac{1}{2} - \\frac{i}{2}) |1\\rangle$$"
      ],
      "text/plain": [
       "<IPython.core.display.Latex object>"
      ]
     },
     "metadata": {},
     "output_type": "display_data"
    }
   ],
   "source": [
    "#running the circuit for some input\n",
    "ket0 = sv([1,0])\n",
    "op = ket0.evolve(circuit)\n",
    "display(op.draw(\"latex\"))"
   ]
  },
  {
   "cell_type": "code",
   "execution_count": 3,
   "id": "e04666d5",
   "metadata": {},
   "outputs": [
    {
     "name": "stdout",
     "output_type": "stream",
     "text": [
      "Help on class QuantumRegister in module qiskit.circuit.quantumregister:\n",
      "\n",
      "class QuantumRegister(qiskit.circuit.register.Register)\n",
      " |  QuantumRegister(size: 'int | None' = None, name: 'str | None' = None, bits=None)\n",
      " |  \n",
      " |  Implement a quantum register.\n",
      " |  \n",
      " |  Method resolution order:\n",
      " |      QuantumRegister\n",
      " |      qiskit.circuit.register.Register\n",
      " |      builtins.object\n",
      " |  \n",
      " |  Data descriptors defined here:\n",
      " |  \n",
      " |  __dict__\n",
      " |      dictionary for instance variables (if defined)\n",
      " |  \n",
      " |  __weakref__\n",
      " |      list of weak references to the object (if defined)\n",
      " |  \n",
      " |  ----------------------------------------------------------------------\n",
      " |  Data and other attributes defined here:\n",
      " |  \n",
      " |  bit_type = <class 'qiskit.circuit.quantumregister.Qubit'>\n",
      " |      Implement a quantum bit.\n",
      " |  \n",
      " |  \n",
      " |  instances_counter = count(0)\n",
      " |  \n",
      " |  prefix = 'q'\n",
      " |  \n",
      " |  ----------------------------------------------------------------------\n",
      " |  Methods inherited from qiskit.circuit.register.Register:\n",
      " |  \n",
      " |  __contains__(self, bit)\n",
      " |  \n",
      " |  __eq__(self, other)\n",
      " |      Two Registers are the same if they are of the same type\n",
      " |      (i.e. quantum/classical), and have the same name and size. Additionally,\n",
      " |      if either Register contains new-style bits, the bits in both registers\n",
      " |      will be checked for pairwise equality. If two registers are equal,\n",
      " |      they will have behave identically when specified as circuit args.\n",
      " |      \n",
      " |      Args:\n",
      " |          other (Register): other Register\n",
      " |      \n",
      " |      Returns:\n",
      " |          bool: `self` and `other` are equal.\n",
      " |  \n",
      " |  __getitem__(self, key)\n",
      " |      Arg:\n",
      " |          bit_type (Qubit or Clbit): a constructor type return element/s.\n",
      " |          key (int or slice or list): index of the bit to be retrieved.\n",
      " |      \n",
      " |      Returns:\n",
      " |          Qubit or Clbit or list(Qubit) or list(Clbit): a Qubit or Clbit instance if\n",
      " |          key is int. If key is a slice, returns a list of these instances.\n",
      " |      \n",
      " |      Raises:\n",
      " |          CircuitError: if the `key` is not an integer or not in the range `(0, self.size)`.\n",
      " |  \n",
      " |  __getstate__(self)\n",
      " |      Helper for pickle.\n",
      " |  \n",
      " |  __hash__(self)\n",
      " |      Make object hashable, based on the name and size to hash.\n",
      " |  \n",
      " |  __init__(self, size: 'int | None' = None, name: 'str | None' = None, bits=None)\n",
      " |      Create a new generic register.\n",
      " |      \n",
      " |      Either the ``size`` or the ``bits`` argument must be provided. If\n",
      " |      ``size`` is not None, the register will be pre-populated with bits of the\n",
      " |      correct type.\n",
      " |      \n",
      " |      Args:\n",
      " |          size (int): Optional. The number of bits to include in the register.\n",
      " |          name (str): Optional. The name of the register. If not provided, a\n",
      " |             unique name will be auto-generated from the register type.\n",
      " |          bits (list[Bit]): Optional. A list of Bit() instances to be used to\n",
      " |             populate the register.\n",
      " |      \n",
      " |      Raises:\n",
      " |          CircuitError: if both the ``size`` and ``bits`` arguments are\n",
      " |              provided, or if neither are.\n",
      " |          CircuitError: if ``size`` is not valid.\n",
      " |          CircuitError: if ``name`` is not a valid name according to the\n",
      " |              OpenQASM spec.\n",
      " |          CircuitError: if ``bits`` contained duplicated bits.\n",
      " |          CircuitError: if ``bits`` contained bits of an incorrect type.\n",
      " |  \n",
      " |  __iter__(self)\n",
      " |  \n",
      " |  __len__(self)\n",
      " |      Return register size.\n",
      " |  \n",
      " |  __repr__(self)\n",
      " |      Return the official string representing the register.\n",
      " |  \n",
      " |  __setstate__(self, state)\n",
      " |  \n",
      " |  index(self, bit)\n",
      " |      Find the index of the provided bit within this register.\n",
      " |  \n",
      " |  ----------------------------------------------------------------------\n",
      " |  Readonly properties inherited from qiskit.circuit.register.Register:\n",
      " |  \n",
      " |  name\n",
      " |      Get the register name.\n",
      " |  \n",
      " |  size\n",
      " |      Get the register size.\n",
      "\n"
     ]
    }
   ],
   "source": [
    "help(QuantumRegister)"
   ]
  },
  {
   "cell_type": "code",
   "execution_count": null,
   "id": "9cf77381",
   "metadata": {},
   "outputs": [],
   "source": []
  }
 ],
 "metadata": {
  "kernelspec": {
   "display_name": "Python 3 (ipykernel)",
   "language": "python",
   "name": "python3"
  },
  "language_info": {
   "codemirror_mode": {
    "name": "ipython",
    "version": 3
   },
   "file_extension": ".py",
   "mimetype": "text/x-python",
   "name": "python",
   "nbconvert_exporter": "python",
   "pygments_lexer": "ipython3",
   "version": "3.11.5"
  }
 },
 "nbformat": 4,
 "nbformat_minor": 5
}
