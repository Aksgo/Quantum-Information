{
 "cells": [
  {
   "cell_type": "code",
   "execution_count": 2,
   "id": "1321a232",
   "metadata": {},
   "outputs": [],
   "source": [
    "from qiskit.quantum_info import Statevector as sv, Operator as opr\n",
    "import numpy as np"
   ]
  },
  {
   "cell_type": "code",
   "execution_count": 44,
   "id": "74d8cde5",
   "metadata": {},
   "outputs": [
    {
     "data": {
      "text/latex": [
       "$$ |0\\rangle+ |1\\rangle$$"
      ],
      "text/plain": [
       "<IPython.core.display.Latex object>"
      ]
     },
     "execution_count": 44,
     "metadata": {},
     "output_type": "execute_result"
    }
   ],
   "source": [
    "#before this we had operated on single system that is only 1 qubit as the input\n",
    "#for multiple qubits we have to take the super position\n",
    "zero = sv([1,0])\n",
    "#we can also do\n",
    "zero = sv.from_label(\"0\")\n",
    "zero.draw(\"latex\")\n",
    "one = sv([1,1])\n",
    "one.draw(\"latex\")"
   ]
  },
  {
   "cell_type": "code",
   "execution_count": 14,
   "id": "acc5b061",
   "metadata": {},
   "outputs": [
    {
     "data": {
      "text/latex": [
       "$$ |10\\rangle$$"
      ],
      "text/plain": [
       "<IPython.core.display.Latex object>"
      ]
     },
     "execution_count": 14,
     "metadata": {},
     "output_type": "execute_result"
    }
   ],
   "source": [
    "#taking the tensor product of two qubits\n",
    "one.tensor(zero).draw(\"latex\")"
   ]
  },
  {
   "cell_type": "code",
   "execution_count": 45,
   "id": "34c04a39",
   "metadata": {},
   "outputs": [
    {
     "data": {
      "text/latex": [
       "$$\\frac{\\sqrt{2}}{2} |0\\rangle+\\frac{\\sqrt{2} i}{2} |1\\rangle$$"
      ],
      "text/plain": [
       "<IPython.core.display.Latex object>"
      ]
     },
     "execution_count": 45,
     "metadata": {},
     "output_type": "execute_result"
    }
   ],
   "source": [
    "#creating a plus state\n",
    "plus = sv.from_label(\"+\")\n",
    "i_state = sv([1/np.sqrt(2),1j/np.sqrt(2)])\n",
    "i_state.draw(\"Latex\")"
   ]
  },
  {
   "cell_type": "code",
   "execution_count": 21,
   "id": "50912e55",
   "metadata": {},
   "outputs": [
    {
     "data": {
      "text/latex": [
       "$$\\frac{1}{2} |00\\rangle+\\frac{i}{2} |01\\rangle+\\frac{1}{2} |10\\rangle+\\frac{i}{2} |11\\rangle$$"
      ],
      "text/plain": [
       "<IPython.core.display.Latex object>"
      ]
     },
     "execution_count": 21,
     "metadata": {},
     "output_type": "execute_result"
    }
   ],
   "source": [
    "psi = plus.tensor(i_state)\n",
    "psi.draw(\"latex\")"
   ]
  },
  {
   "cell_type": "code",
   "execution_count": 25,
   "id": "f06d6739",
   "metadata": {},
   "outputs": [
    {
     "data": {
      "text/latex": [
       "$$\n",
       "\n",
       "\\begin{bmatrix}\n",
       "0 & 0 & 1 & 0  \\\\\n",
       " 0 & 0 & 0 & 1  \\\\\n",
       " 1 & 0 & 0 & 0  \\\\\n",
       " 0 & 1 & 0 & 0  \\\\\n",
       " \\end{bmatrix}\n",
       "$$"
      ],
      "text/plain": [
       "<IPython.core.display.Latex object>"
      ]
     },
     "execution_count": 25,
     "metadata": {},
     "output_type": "execute_result"
    }
   ],
   "source": [
    "#performing tensor product on operators that is our matrices\n",
    "X = opr([[0,1],[1,0]])\n",
    "I = opr([[1,0],[0,1]])\n",
    "T1 = X.tensor(I)\n",
    "T1.draw(\"latex\")"
   ]
  },
  {
   "cell_type": "code",
   "execution_count": 32,
   "id": "612999f7",
   "metadata": {},
   "outputs": [
    {
     "data": {
      "text/latex": [
       "$$\\frac{i}{2} |00\\rangle+\\frac{1}{2} |01\\rangle+\\frac{i}{2} |10\\rangle+\\frac{1}{2} |11\\rangle$$"
      ],
      "text/plain": [
       "<IPython.core.display.Latex object>"
      ]
     },
     "execution_count": 32,
     "metadata": {},
     "output_type": "execute_result"
    }
   ],
   "source": [
    "#now since we have created the overall matrix for the whole system we can apply it to 2 qubit system just like\n",
    "#we did for single qubit\n",
    "#^ operator is also used to represent the tensor product of matrices\n",
    "op = psi.evolve(I^X)\n",
    "#the operation we applied is essentially doing nothing on qubit 1 and applying X gate on qubit 2\n",
    "T1 = I^X\n",
    "op.draw(\"latex\")"
   ]
  },
  {
   "cell_type": "code",
   "execution_count": 33,
   "id": "b6a798e4",
   "metadata": {
    "scrolled": true
   },
   "outputs": [
    {
     "data": {
      "text/latex": [
       "$$\n",
       "\n",
       "\\begin{bmatrix}\n",
       "0 & 1 & 0 & 0  \\\\\n",
       " 1 & 0 & 0 & 0  \\\\\n",
       " 0 & 0 & 0 & 1  \\\\\n",
       " 0 & 0 & 1 & 0  \\\\\n",
       " \\end{bmatrix}\n",
       "$$"
      ],
      "text/plain": [
       "<IPython.core.display.Latex object>"
      ]
     },
     "execution_count": 33,
     "metadata": {},
     "output_type": "execute_result"
    }
   ],
   "source": [
    "T1.draw(\"latex\")"
   ]
  },
  {
   "cell_type": "code",
   "execution_count": 42,
   "id": "4241de78",
   "metadata": {},
   "outputs": [
    {
     "data": {
      "text/latex": [
       "$$\n",
       "\n",
       "\\begin{bmatrix}\n",
       "1 & 0 & 0 & 0  \\\\\n",
       " 0 & 1 & 0 & 0  \\\\\n",
       " 0 & 0 & 0 & 1  \\\\\n",
       " 0 & 0 & 1 & 0  \\\\\n",
       " \\end{bmatrix}\n",
       "$$"
      ],
      "text/plain": [
       "<IPython.core.display.Latex object>"
      ]
     },
     "execution_count": 42,
     "metadata": {},
     "output_type": "execute_result"
    }
   ],
   "source": [
    "#similarly we can create any other operator matrix\n",
    "#like below one is a controlled X gate\n",
    "zero_mat = opr([[1,0],[0,0]])\n",
    "one_mat = opr([[0,0],[0,1]])\n",
    "#using the formula of dirac notation\n",
    "CX = (zero_mat^I) + (one_mat^X)\n",
    "CX.draw(\"latex\")"
   ]
  },
  {
   "cell_type": "code",
   "execution_count": 46,
   "id": "cf02dd03",
   "metadata": {},
   "outputs": [
    {
     "data": {
      "text/latex": [
       "$$\\frac{\\sqrt{3}}{3} |001\\rangle+\\frac{\\sqrt{3}}{3} |010\\rangle+\\frac{\\sqrt{3}}{3} |100\\rangle$$"
      ],
      "text/plain": [
       "<IPython.core.display.Latex object>"
      ]
     },
     "execution_count": 46,
     "metadata": {},
     "output_type": "execute_result"
    }
   ],
   "source": [
    "#measuring the probabilty for multiple system\n",
    "#using the same measure method\n",
    "W = sv([0,1,1,0,1,0,0,0]/np.sqrt(3))\n",
    "#qiskit autmatically assume that a system with 2^n entries in vector will have n states , like here for 8 entries\n",
    "#it understood that first elemt is |000> then 2nd is |001> and so on, so it got to know that 3 qubits are involved\n",
    "\n",
    "W.draw(\"latex\")"
   ]
  },
  {
   "cell_type": "code",
   "execution_count": null,
   "id": "f2fcc133",
   "metadata": {},
   "outputs": [],
   "source": []
  }
 ],
 "metadata": {
  "kernelspec": {
   "display_name": "Python 3 (ipykernel)",
   "language": "python",
   "name": "python3"
  },
  "language_info": {
   "codemirror_mode": {
    "name": "ipython",
    "version": 3
   },
   "file_extension": ".py",
   "mimetype": "text/x-python",
   "name": "python",
   "nbconvert_exporter": "python",
   "pygments_lexer": "ipython3",
   "version": "3.11.5"
  }
 },
 "nbformat": 4,
 "nbformat_minor": 5
}
