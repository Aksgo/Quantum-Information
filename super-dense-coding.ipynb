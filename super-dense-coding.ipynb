{
 "cells": [
  {
   "cell_type": "code",
   "execution_count": 11,
   "id": "5e17830d",
   "metadata": {},
   "outputs": [],
   "source": [
    "from qiskit import QuantumCircuit, ClassicalRegister, QuantumRegister\n",
    "from qiskit_aer.primitives import sampler\n",
    "from qiskit_aer import AerSimulator\n",
    "from qiskit.visualization import plot_histogram"
   ]
  },
  {
   "cell_type": "code",
   "execution_count": 37,
   "id": "b16667b8",
   "metadata": {},
   "outputs": [],
   "source": [
    "#bits to transmit\n",
    "c = \"1\"\n",
    "d = \"0\""
   ]
  },
  {
   "cell_type": "code",
   "execution_count": 38,
   "id": "ead01f19",
   "metadata": {},
   "outputs": [
    {
     "data": {
      "text/html": [
       "<pre style=\"word-wrap: normal;white-space: pre;background: #fff0;line-height: 1.1;font-family: &quot;Courier New&quot;,Courier,monospace\">          ┌───┐ ░ ┌───┐ ░      ┌───┐┌─┐\n",
       "  A: ─────┤ X ├─░─┤ X ├─░───■──┤ H ├┤M├\n",
       "     ┌───┐└─┬─┘ ░ └───┘ ░ ┌─┴─┐└┬─┬┘└╥┘\n",
       "  B: ┤ H ├──■───░───────░─┤ X ├─┤M├──╫─\n",
       "     └───┘      ░       ░ └───┘ └╥┘  ║ \n",
       "a: 1/════════════════════════════╬═══╩═\n",
       "                                 ║   0 \n",
       "b: 1/════════════════════════════╩═════\n",
       "                                 0     </pre>"
      ],
      "text/plain": [
       "          ┌───┐ ░ ┌───┐ ░      ┌───┐┌─┐\n",
       "  A: ─────┤ X ├─░─┤ X ├─░───■──┤ H ├┤M├\n",
       "     ┌───┐└─┬─┘ ░ └───┘ ░ ┌─┴─┐└┬─┬┘└╥┘\n",
       "  B: ┤ H ├──■───░───────░─┤ X ├─┤M├──╫─\n",
       "     └───┘      ░       ░ └───┘ └╥┘  ║ \n",
       "a: 1/════════════════════════════╬═══╩═\n",
       "                                 ║   0 \n",
       "b: 1/════════════════════════════╩═════\n",
       "                                 0     "
      ]
     },
     "metadata": {},
     "output_type": "display_data"
    }
   ],
   "source": [
    "#superdense protocol ciruit\n",
    "ebit1 = QuantumRegister(1,\"B\")\n",
    "ebit0 = QuantumRegister(1,\"A\")\n",
    "a = ClassicalRegister(1,\"a\")\n",
    "b = ClassicalRegister(1,\"b\")\n",
    "protocol = QuantumCircuit(ebit0,ebit1,a,b)\n",
    "\n",
    "#enatangling the bits\n",
    "protocol.h(ebit1)\n",
    "protocol.cx(ebit1,ebit0)\n",
    "protocol.barrier()\n",
    "if d==\"1\":\n",
    "    protocol.z(ebit0)\n",
    "if c==\"1\":\n",
    "    protocol.x(ebit0)\n",
    "protocol.barrier()\n",
    "protocol.cx(ebit0,ebit1)\n",
    "protocol.h(ebit0)\n",
    "\n",
    "protocol.measure(ebit0, a)\n",
    "protocol.measure(ebit1, b)\n",
    "display(protocol.draw())"
   ]
  },
  {
   "cell_type": "code",
   "execution_count": 39,
   "id": "43c7b349",
   "metadata": {},
   "outputs": [
    {
     "data": {
      "text/plain": [
       "{'1 0': 1024}"
      ]
     },
     "metadata": {},
     "output_type": "display_data"
    },
    {
     "data": {
      "image/png": "[encoded data removed]",
      "text/plain": [
       "<Figure size 640x480 with 1 Axes>"
      ]
     },
     "metadata": {},
     "output_type": "display_data"
    }
   ],
   "source": [
    "results = AerSimulator().run(protocol).result()\n",
    "stats = results.get_counts()\n",
    "display(stats)\n",
    "display(plot_histogram(stats))"
   ]
  },
  {
   "cell_type": "code",
   "execution_count": 69,
   "id": "4e70a586",
   "metadata": {},
   "outputs": [
    {
     "data": {
      "text/html": [
       "<pre style=\"word-wrap: normal;white-space: pre;background: #fff0;line-height: 1.1;font-family: &quot;Courier New&quot;,Courier,monospace\">     ┌───┐┌─┐┌───┐                       ┌─┐                                 »\n",
       "  R: ┤ H ├┤M├┤ H ├───────────────────────┤M├─────────────────────────────────»\n",
       "     └───┘└╥┘├───┤┌────── ┌───┐ ───────┐ └╥┘┌────── ┌───┐ ───────┐      ┌───┐»\n",
       "  A: ──────╫─┤ X ├┤ If-0  ┤ Z ├  End-0 ├──╫─┤ If-0  ┤ X ├  End-0 ├───■──┤ H ├»\n",
       "     ┌───┐ ║ └─┬─┘└──╥─── └───┘ ───────┘  ║ └──╥─── └───┘ ───────┘ ┌─┴─┐└┬─┬┘»\n",
       "  B: ┤ H ├─╫───■─────╫────────────────────╫────╫───────────────────┤ X ├─┤M├─»\n",
       "     └───┘ ║      ┌──╨──┐                 ║    ║                   └───┘ └╥┘ »\n",
       "d: 1/══════╩══════╡ 0x1 ╞═════════════════╬════╬══════════════════════════╬══»\n",
       "           0      └─────┘                 ║ ┌──╨──┐                       ║  »\n",
       "c: 1/═════════════════════════════════════╩═╡ 0x1 ╞═══════════════════════╬══»\n",
       "                                          0 └─────┘                       ║  »\n",
       "a: 1/═════════════════════════════════════════════════════════════════════╬══»\n",
       "                                                                          ║  »\n",
       "b: 1/═════════════════════════════════════════════════════════════════════╩══»\n",
       "                                                                          0  »\n",
       "«        \n",
       "«  R: ───\n",
       "«     ┌─┐\n",
       "«  A: ┤M├\n",
       "«     └╥┘\n",
       "«  B: ─╫─\n",
       "«      ║ \n",
       "«d: 1/═╬═\n",
       "«      ║ \n",
       "«c: 1/═╬═\n",
       "«      ║ \n",
       "«a: 1/═╩═\n",
       "«      0 \n",
       "«b: 1/═══\n",
       "«        </pre>"
      ],
      "text/plain": [
       "     ┌───┐┌─┐┌───┐                       ┌─┐                                 »\n",
       "  R: ┤ H ├┤M├┤ H ├───────────────────────┤M├─────────────────────────────────»\n",
       "     └───┘└╥┘├───┤┌────── ┌───┐ ───────┐ └╥┘┌────── ┌───┐ ───────┐      ┌───┐»\n",
       "  A: ──────╫─┤ X ├┤ If-0  ┤ Z ├  End-0 ├──╫─┤ If-0  ┤ X ├  End-0 ├───■──┤ H ├»\n",
       "     ┌───┐ ║ └─┬─┘└──╥─── └───┘ ───────┘  ║ └──╥─── └───┘ ───────┘ ┌─┴─┐└┬─┬┘»\n",
       "  B: ┤ H ├─╫───■─────╫────────────────────╫────╫───────────────────┤ X ├─┤M├─»\n",
       "     └───┘ ║      ┌──╨──┐                 ║    ║                   └───┘ └╥┘ »\n",
       "d: 1/══════╩══════╡ 0x1 ╞═════════════════╬════╬══════════════════════════╬══»\n",
       "           0      └─────┘                 ║ ┌──╨──┐                       ║  »\n",
       "c: 1/═════════════════════════════════════╩═╡ 0x1 ╞═══════════════════════╬══»\n",
       "                                          0 └─────┘                       ║  »\n",
       "a: 1/═════════════════════════════════════════════════════════════════════╬══»\n",
       "                                                                          ║  »\n",
       "b: 1/═════════════════════════════════════════════════════════════════════╩══»\n",
       "                                                                          0  »\n",
       "«        \n",
       "«  R: ───\n",
       "«     ┌─┐\n",
       "«  A: ┤M├\n",
       "«     └╥┘\n",
       "«  B: ─╫─\n",
       "«      ║ \n",
       "«d: 1/═╬═\n",
       "«      ║ \n",
       "«c: 1/═╬═\n",
       "«      ║ \n",
       "«a: 1/═╩═\n",
       "«      0 \n",
       "«b: 1/═══\n",
       "«        "
      ]
     },
     "metadata": {},
     "output_type": "display_data"
    }
   ],
   "source": [
    "#testing on random c and d\n",
    "randomizer = QuantumRegister(1,\"R\")\n",
    "qd = ClassicalRegister(1,\"d\")\n",
    "qc = ClassicalRegister(1,\"c\")\n",
    "test = QuantumCircuit(randomizer, qd,qc,ebit0,ebit1,a,b)\n",
    "\n",
    "#applying random c and d bits\n",
    "test.h(randomizer)\n",
    "test.measure(randomizer,qd)\n",
    "test.h(randomizer)\n",
    "test.measure(randomizer,qc)\n",
    "\n",
    "#entangling the bits and A and B\n",
    "test.h(ebit1)\n",
    "test.cx(ebit1,ebit0)\n",
    "\n",
    "#applying gate depending on d and c to A\n",
    "with test.if_test((qd,1)):\n",
    "    test.z(ebit0)\n",
    "with test.if_test((qc,1)):\n",
    "    test.x(ebit0)\n",
    "\n",
    "#finally transforming back from entangled to individual \n",
    "test.cx(ebit0,ebit1)\n",
    "test.h(ebit0)\n",
    "test.measure(ebit0, a)\n",
    "test.measure(ebit1, b)\n",
    "display(test.draw())"
   ]
  },
  {
   "cell_type": "code",
   "execution_count": 88,
   "id": "7ee3db56",
   "metadata": {},
   "outputs": [
    {
     "data": {
      "text/plain": [
       "{'0 1 0 1': 266, '1 1 1 1': 262, '0 0 0 0': 251, '1 0 1 0': 245}"
      ]
     },
     "metadata": {},
     "output_type": "display_data"
    },
    {
     "data": {
      "image/png": "[encoded data removed]",
      "text/plain": [
       "<Figure size 640x480 with 1 Axes>"
      ]
     },
     "metadata": {},
     "output_type": "display_data"
    }
   ],
   "source": [
    "#running the simulator\n",
    "\n",
    "results = AerSimulator().run(test).result()\n",
    "stats = results.get_counts()\n",
    "display(stats)\n",
    "display(plot_histogram(stats))\n",
    "# we can see that first two qubit states always matches the other two"
   ]
  },
  {
   "cell_type": "code",
   "execution_count": null,
   "id": "a0b3cb17",
   "metadata": {},
   "outputs": [],
   "source": []
  },
  {
   "cell_type": "code",
   "execution_count": null,
   "id": "3bfd46ff",
   "metadata": {},
   "outputs": [],
   "source": []
  }
 ],
 "metadata": {
  "kernelspec": {
   "display_name": "Python 3 (ipykernel)",
   "language": "python",
   "name": "python3"
  },
  "language_info": {
   "codemirror_mode": {
    "name": "ipython",
    "version": 3
   },
   "file_extension": ".py",
   "mimetype": "text/x-python",
   "name": "python",
   "nbconvert_exporter": "python",
   "pygments_lexer": "ipython3",
   "version": "3.11.5"
  }
 },
 "nbformat": 4,
 "nbformat_minor": 5
}
