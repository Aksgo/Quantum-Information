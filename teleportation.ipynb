{
 "cells": [
  {
   "cell_type": "code",
   "execution_count": 4,
   "id": "7eea4ceb",
   "metadata": {},
   "outputs": [
    {
     "name": "stdout",
     "output_type": "stream",
     "text": [
      "Collecting qiskit_aer\n",
      "  Obtaining dependency information for qiskit_aer from https://files.pythonhosted.org/packages/a3/4a/f40f4655010b104e4e98a89f13e960fb6f02f2b2ceb6ecf73762bce86d22/qiskit_aer-0.15.1-cp311-cp311-win_amd64.whl.metadata\n",
      "  Downloading qiskit_aer-0.15.1-cp311-cp311-win_amd64.whl.metadata (8.2 kB)\n",
      "Requirement already satisfied: qiskit>=1.1.0 in c:\\users\\akshi\\anaconda3\\lib\\site-packages (from qiskit_aer) (1.2.2)\n",
      "Requirement already satisfied: numpy>=1.16.3 in c:\\users\\akshi\\anaconda3\\lib\\site-packages (from qiskit_aer) (1.24.3)\n",
      "Requirement already satisfied: scipy>=1.0 in c:\\users\\akshi\\anaconda3\\lib\\site-packages (from qiskit_aer) (1.11.1)\n",
      "Requirement already satisfied: psutil>=5 in c:\\users\\akshi\\anaconda3\\lib\\site-packages (from qiskit_aer) (5.9.0)\n",
      "Requirement already satisfied: rustworkx>=0.15.0 in c:\\users\\akshi\\anaconda3\\lib\\site-packages (from qiskit>=1.1.0->qiskit_aer) (0.15.1)\n",
      "Requirement already satisfied: sympy>=1.3 in c:\\users\\akshi\\anaconda3\\lib\\site-packages (from qiskit>=1.1.0->qiskit_aer) (1.11.1)\n",
      "Requirement already satisfied: dill>=0.3 in c:\\users\\akshi\\anaconda3\\lib\\site-packages (from qiskit>=1.1.0->qiskit_aer) (0.3.6)\n",
      "Requirement already satisfied: python-dateutil>=2.8.0 in c:\\users\\akshi\\anaconda3\\lib\\site-packages (from qiskit>=1.1.0->qiskit_aer) (2.8.2)\n",
      "Requirement already satisfied: stevedore>=3.0.0 in c:\\users\\akshi\\anaconda3\\lib\\site-packages (from qiskit>=1.1.0->qiskit_aer) (5.3.0)\n",
      "Requirement already satisfied: typing-extensions in c:\\users\\akshi\\anaconda3\\lib\\site-packages (from qiskit>=1.1.0->qiskit_aer) (4.7.1)\n",
      "Requirement already satisfied: symengine>=0.11 in c:\\users\\akshi\\anaconda3\\lib\\site-packages (from qiskit>=1.1.0->qiskit_aer) (0.11.0)\n",
      "Requirement already satisfied: six>=1.5 in c:\\users\\akshi\\anaconda3\\lib\\site-packages (from python-dateutil>=2.8.0->qiskit>=1.1.0->qiskit_aer) (1.16.0)\n",
      "Requirement already satisfied: pbr>=2.0.0 in c:\\users\\akshi\\anaconda3\\lib\\site-packages (from stevedore>=3.0.0->qiskit>=1.1.0->qiskit_aer) (6.1.0)\n",
      "Requirement already satisfied: mpmath>=0.19 in c:\\users\\akshi\\anaconda3\\lib\\site-packages (from sympy>=1.3->qiskit>=1.1.0->qiskit_aer) (1.3.0)\n",
      "Downloading qiskit_aer-0.15.1-cp311-cp311-win_amd64.whl (9.5 MB)\n",
      "   ---------------------------------------- 0.0/9.5 MB ? eta -:--:--\n",
      "   ---------------------------------------- 0.0/9.5 MB ? eta -:--:--\n",
      "   ---------------------------------------- 0.0/9.5 MB 320.0 kB/s eta 0:00:30\n",
      "   ---------------------------------------- 0.0/9.5 MB 326.8 kB/s eta 0:00:29\n",
      "   ---------------------------------------- 0.1/9.5 MB 491.5 kB/s eta 0:00:20\n",
      "    --------------------------------------- 0.1/9.5 MB 653.6 kB/s eta 0:00:15\n",
      "   - -------------------------------------- 0.3/9.5 MB 1.1 MB/s eta 0:00:09\n",
      "   - -------------------------------------- 0.4/9.5 MB 1.2 MB/s eta 0:00:08\n",
      "   -- ------------------------------------- 0.5/9.5 MB 1.5 MB/s eta 0:00:07\n",
      "   -- ------------------------------------- 0.7/9.5 MB 1.6 MB/s eta 0:00:06\n",
      "   --- ------------------------------------ 0.8/9.5 MB 1.8 MB/s eta 0:00:05\n",
      "   ---- ----------------------------------- 1.0/9.5 MB 2.0 MB/s eta 0:00:05\n",
      "   ----- ---------------------------------- 1.2/9.5 MB 2.2 MB/s eta 0:00:04\n",
      "   ----- ---------------------------------- 1.4/9.5 MB 2.3 MB/s eta 0:00:04\n",
      "   ------ --------------------------------- 1.6/9.5 MB 2.5 MB/s eta 0:00:04\n",
      "   ------- -------------------------------- 1.8/9.5 MB 2.6 MB/s eta 0:00:03\n",
      "   -------- ------------------------------- 2.0/9.5 MB 2.7 MB/s eta 0:00:03\n",
      "   --------- ------------------------------ 2.2/9.5 MB 2.8 MB/s eta 0:00:03\n",
      "   --------- ------------------------------ 2.3/9.5 MB 2.8 MB/s eta 0:00:03\n",
      "   ---------- ----------------------------- 2.5/9.5 MB 2.9 MB/s eta 0:00:03\n",
      "   ----------- ---------------------------- 2.7/9.5 MB 2.9 MB/s eta 0:00:03\n",
      "   ------------ --------------------------- 2.9/9.5 MB 3.0 MB/s eta 0:00:03\n",
      "   ------------- -------------------------- 3.1/9.5 MB 3.1 MB/s eta 0:00:03\n",
      "   ------------- -------------------------- 3.3/9.5 MB 3.1 MB/s eta 0:00:03\n",
      "   -------------- ------------------------- 3.5/9.5 MB 3.1 MB/s eta 0:00:02\n",
      "   ---------------- ----------------------- 3.8/9.5 MB 3.2 MB/s eta 0:00:02\n",
      "   ---------------- ----------------------- 4.0/9.5 MB 3.3 MB/s eta 0:00:02\n",
      "   ----------------- ---------------------- 4.2/9.5 MB 3.3 MB/s eta 0:00:02\n",
      "   ------------------ --------------------- 4.4/9.5 MB 3.4 MB/s eta 0:00:02\n",
      "   ------------------ --------------------- 4.5/9.5 MB 3.4 MB/s eta 0:00:02\n",
      "   ------------------- -------------------- 4.6/9.5 MB 3.3 MB/s eta 0:00:02\n",
      "   -------------------- ------------------- 4.8/9.5 MB 3.3 MB/s eta 0:00:02\n",
      "   --------------------- ------------------ 5.1/9.5 MB 3.4 MB/s eta 0:00:02\n",
      "   ---------------------- ----------------- 5.3/9.5 MB 3.4 MB/s eta 0:00:02\n",
      "   ---------------------- ----------------- 5.4/9.5 MB 3.4 MB/s eta 0:00:02\n",
      "   ----------------------- ---------------- 5.6/9.5 MB 3.4 MB/s eta 0:00:02\n",
      "   ------------------------ --------------- 5.7/9.5 MB 3.4 MB/s eta 0:00:02\n",
      "   ------------------------ --------------- 5.9/9.5 MB 3.4 MB/s eta 0:00:02\n",
      "   ------------------------- -------------- 6.0/9.5 MB 3.4 MB/s eta 0:00:02\n",
      "   -------------------------- ------------- 6.2/9.5 MB 3.4 MB/s eta 0:00:01\n",
      "   --------------------------- ------------ 6.5/9.5 MB 3.4 MB/s eta 0:00:01\n",
      "   ---------------------------- ----------- 6.7/9.5 MB 3.5 MB/s eta 0:00:01\n",
      "   ---------------------------- ----------- 6.8/9.5 MB 3.4 MB/s eta 0:00:01\n",
      "   ----------------------------- ---------- 6.9/9.5 MB 3.4 MB/s eta 0:00:01\n",
      "   ----------------------------- ---------- 7.1/9.5 MB 3.4 MB/s eta 0:00:01\n",
      "   ------------------------------ --------- 7.3/9.5 MB 3.4 MB/s eta 0:00:01\n",
      "   ------------------------------- -------- 7.5/9.5 MB 3.5 MB/s eta 0:00:01\n",
      "   -------------------------------- ------- 7.7/9.5 MB 3.5 MB/s eta 0:00:01\n",
      "   --------------------------------- ------ 8.0/9.5 MB 3.5 MB/s eta 0:00:01\n",
      "   ---------------------------------- ----- 8.2/9.5 MB 3.5 MB/s eta 0:00:01\n",
      "   ----------------------------------- ---- 8.4/9.5 MB 3.5 MB/s eta 0:00:01\n",
      "   ------------------------------------ --- 8.6/9.5 MB 3.6 MB/s eta 0:00:01\n",
      "   ------------------------------------- -- 8.8/9.5 MB 3.6 MB/s eta 0:00:01\n",
      "   ------------------------------------- -- 9.0/9.5 MB 3.6 MB/s eta 0:00:01\n",
      "   -------------------------------------- - 9.2/9.5 MB 3.6 MB/s eta 0:00:01\n",
      "   ---------------------------------------  9.5/9.5 MB 3.6 MB/s eta 0:00:01\n",
      "   ---------------------------------------- 9.5/9.5 MB 3.6 MB/s eta 0:00:00\n",
      "Installing collected packages: qiskit_aer\n",
      "Successfully installed qiskit_aer-0.15.1\n"
     ]
    }
   ],
   "source": [
    "!pip install qiskit_aer"
   ]
  },
  {
   "cell_type": "code",
   "execution_count": 15,
   "id": "0eb818ae",
   "metadata": {},
   "outputs": [],
   "source": [
    "from qiskit import QuantumCircuit, QuantumRegister, ClassicalRegister\n",
    "from qiskit_aer import AerSimulator\n",
    "from qiskit.visualization import plot_histogram\n",
    "from qiskit.result import marginal_distribution\n",
    "from qiskit.circuit.library import UGate\n",
    "import numpy as np\n",
    "import random\n",
    "import math"
   ]
  },
  {
   "cell_type": "code",
   "execution_count": 34,
   "id": "f7ec863e",
   "metadata": {},
   "outputs": [
    {
     "data": {
      "text/html": [
       "<pre style=\"word-wrap: normal;white-space: pre;background: #fff0;line-height: 1.1;font-family: &quot;Courier New&quot;,Courier,monospace\">                ░      ┌───┐ ░ ┌─┐    ░                                     »\n",
       "  Q: ───────────░───■──┤ H ├─░─┤M├────░─────────────────────────────────────»\n",
       "     ┌───┐      ░ ┌─┴─┐└───┘ ░ └╥┘┌─┐ ░                                     »\n",
       "  A: ┤ H ├──■───░─┤ X ├──────░──╫─┤M├─░─────────────────────────────────────»\n",
       "     └───┘┌─┴─┐ ░ └───┘      ░  ║ └╥┘ ░ ┌────── ┌───┐ ───────┐ ┌────── ┌───┐»\n",
       "  B: ─────┤ X ├─░────────────░──╫──╫──░─┤ If-0  ┤ X ├  End-0 ├─┤ If-0  ┤ Z ├»\n",
       "          └───┘ ░            ░  ║  ║  ░ └──╥─── └───┘ ───────┘ └──╥─── └───┘»\n",
       "                                ║  ║    ┌──╨──┐                   ║         »\n",
       "a: 1/═══════════════════════════╬══╩════╡ 0x1 ╞═══════════════════╬═════════»\n",
       "                                ║  0    └─────┘                ┌──╨──┐      »\n",
       "b: 1/═══════════════════════════╩══════════════════════════════╡ 0x1 ╞══════»\n",
       "                                0                              └─────┘      »\n",
       "«               \n",
       "«  Q: ──────────\n",
       "«               \n",
       "«  A: ──────────\n",
       "«      ───────┐ \n",
       "«  B:   End-0 ├─\n",
       "«      ───────┘ \n",
       "«a: 1/══════════\n",
       "«               \n",
       "«b: 1/══════════\n",
       "«               </pre>"
      ],
      "text/plain": [
       "                ░      ┌───┐ ░ ┌─┐    ░                                     »\n",
       "  Q: ───────────░───■──┤ H ├─░─┤M├────░─────────────────────────────────────»\n",
       "     ┌───┐      ░ ┌─┴─┐└───┘ ░ └╥┘┌─┐ ░                                     »\n",
       "  A: ┤ H ├──■───░─┤ X ├──────░──╫─┤M├─░─────────────────────────────────────»\n",
       "     └───┘┌─┴─┐ ░ └───┘      ░  ║ └╥┘ ░ ┌────── ┌───┐ ───────┐ ┌────── ┌───┐»\n",
       "  B: ─────┤ X ├─░────────────░──╫──╫──░─┤ If-0  ┤ X ├  End-0 ├─┤ If-0  ┤ Z ├»\n",
       "          └───┘ ░            ░  ║  ║  ░ └──╥─── └───┘ ───────┘ └──╥─── └───┘»\n",
       "                                ║  ║    ┌──╨──┐                   ║         »\n",
       "a: 1/═══════════════════════════╬══╩════╡ 0x1 ╞═══════════════════╬═════════»\n",
       "                                ║  0    └─────┘                ┌──╨──┐      »\n",
       "b: 1/═══════════════════════════╩══════════════════════════════╡ 0x1 ╞══════»\n",
       "                                0                              └─────┘      »\n",
       "«               \n",
       "«  Q: ──────────\n",
       "«               \n",
       "«  A: ──────────\n",
       "«      ───────┐ \n",
       "«  B:   End-0 ├─\n",
       "«      ───────┘ \n",
       "«a: 1/══════════\n",
       "«               \n",
       "«b: 1/══════════\n",
       "«               "
      ]
     },
     "metadata": {},
     "output_type": "display_data"
    }
   ],
   "source": [
    "qubit = QuantumRegister(1,\"Q\")\n",
    "ebit0 = QuantumRegister(1,\"A\")\n",
    "ebit1 = QuantumRegister(1,\"B\")\n",
    "a = ClassicalRegister(1, \"a\")\n",
    "b = ClassicalRegister(1, \"b\")\n",
    "#let the name of our circuit be 'protocol'\n",
    "protocol = QuantumCircuit(qubit, ebit0, ebit1, a, b)\n",
    "#preparing ebit for teleportation\n",
    "protocol.h(ebit0)\n",
    "protocol.cx(ebit0, ebit1)\n",
    "protocol.barrier()\n",
    "\n",
    "#alice apply the operations\n",
    "protocol.cx(qubit, ebit0)\n",
    "protocol.h(qubit)\n",
    "protocol.barrier()\n",
    "\n",
    "#alice measure and send clasical bits to bob\n",
    "protocol.measure(qubit,b)\n",
    "protocol.measure(ebit0,a)\n",
    "protocol.barrier()\n",
    "\n",
    "#bob apply the operation after checking\n",
    "#since the if_test function returns an handle we use with block\n",
    "with protocol.if_test((a,1)):\n",
    "    protocol.x(ebit1)\n",
    "with protocol.if_test((b,1)):\n",
    "    protocol.z(ebit1)\n",
    "display(protocol.draw())\n"
   ]
  },
  {
   "cell_type": "code",
   "execution_count": 35,
   "id": "c860b2a7",
   "metadata": {},
   "outputs": [
    {
     "data": {
      "text/plain": [
       "array([[-0.47086356+0.j        , -0.79713538+0.37797181j],\n",
       "       [ 0.88072039-0.05117714j, -0.41303914+0.22607779j]])"
      ]
     },
     "metadata": {},
     "output_type": "display_data"
    }
   ],
   "source": [
    "pi = math.pi\n",
    "random_gate = UGate(\n",
    "    theta = random.random() * 2 * pi,\n",
    "    phi = random.random()* 2* pi,\n",
    "    lam = random.random() * 2* pi\n",
    ")\n",
    "display(random_gate.to_matrix())"
   ]
  },
  {
   "cell_type": "code",
   "execution_count": 36,
   "id": "d252b016",
   "metadata": {},
   "outputs": [
    {
     "name": "stdout",
     "output_type": "stream",
     "text": [
      "Help on function if_test in module qiskit.circuit.quantumcircuit:\n",
      "\n",
      "if_test(self, condition, true_body=None, qubits=None, clbits=None, *, label=None)\n",
      "    Create an ``if`` statement on this circuit.\n",
      "    \n",
      "    There are two forms for calling this function.  If called with all its arguments (with the\n",
      "    possible exception of ``label``), it will create a\n",
      "    :obj:`~qiskit.circuit.IfElseOp` with the given ``true_body``, and there will be\n",
      "    no branch for the ``false`` condition (see also the :meth:`.if_else` method).  However, if\n",
      "    ``true_body`` (and ``qubits`` and ``clbits``) are *not* passed, then this acts as a context\n",
      "    manager, which can be used to build ``if`` statements.  The return value of the ``with``\n",
      "    statement is a chainable context manager, which can be used to create subsequent ``else``\n",
      "    blocks.  In this form, you do not need to keep track of the qubits or clbits you are using,\n",
      "    because the scope will handle it for you.\n",
      "    \n",
      "    For example::\n",
      "    \n",
      "        from qiskit.circuit import QuantumCircuit, Qubit, Clbit\n",
      "        bits = [Qubit(), Qubit(), Qubit(), Clbit(), Clbit()]\n",
      "        qc = QuantumCircuit(bits)\n",
      "    \n",
      "        qc.h(0)\n",
      "        qc.cx(0, 1)\n",
      "        qc.measure(0, 0)\n",
      "        qc.h(0)\n",
      "        qc.cx(0, 1)\n",
      "        qc.measure(0, 1)\n",
      "    \n",
      "        with qc.if_test((bits[3], 0)) as else_:\n",
      "            qc.x(2)\n",
      "        with else_:\n",
      "            qc.h(2)\n",
      "            qc.z(2)\n",
      "    \n",
      "    Args:\n",
      "        condition (Tuple[Union[ClassicalRegister, Clbit], int]): A condition to be evaluated in\n",
      "            real time during circuit execution, which, if true, will trigger the evaluation of\n",
      "            ``true_body``. Can be specified as either a tuple of a ``ClassicalRegister`` to be\n",
      "            tested for equality with a given ``int``, or as a tuple of a ``Clbit`` to be\n",
      "            compared to either a ``bool`` or an ``int``.\n",
      "        true_body (Optional[QuantumCircuit]): The circuit body to be run if ``condition`` is\n",
      "            true.\n",
      "        qubits (Optional[Sequence[QubitSpecifier]]): The circuit qubits over which the if/else\n",
      "            should be run.\n",
      "        clbits (Optional[Sequence[ClbitSpecifier]]): The circuit clbits over which the if/else\n",
      "            should be run.\n",
      "        label (Optional[str]): The string label of the instruction in the circuit.\n",
      "    \n",
      "    Returns:\n",
      "        InstructionSet or IfContext: depending on the call signature, either a context\n",
      "        manager for creating the ``if`` block (it will automatically be added to the circuit at\n",
      "        the end of the block), or an :obj:`~InstructionSet` handle to the appended conditional\n",
      "        operation.\n",
      "    \n",
      "    Raises:\n",
      "        CircuitError: If the provided condition references Clbits outside the\n",
      "            enclosing circuit.\n",
      "        CircuitError: if an incorrect calling convention is used.\n",
      "    \n",
      "    Returns:\n",
      "        A handle to the instruction created.\n",
      "\n"
     ]
    }
   ],
   "source": [
    "help(QuantumCircuit.if_test)"
   ]
  },
  {
   "cell_type": "code",
   "execution_count": 44,
   "id": "795c26f6",
   "metadata": {
    "scrolled": true
   },
   "outputs": [
    {
     "data": {
      "text/html": [
       "<pre style=\"word-wrap: normal;white-space: pre;background: #fff0;line-height: 1.1;font-family: &quot;Courier New&quot;,Courier,monospace\">          ┌───┐┌─────────────────────────┐ ░            ░      ┌───┐ ░ ┌─┐   »\n",
       "       Q: ┤ X ├┤ U(4.1221,6.2251,5.8404) ├─░────────────░───■──┤ H ├─░─┤M├───»\n",
       "          └───┘└─────────────────────────┘ ░ ┌───┐      ░ ┌─┴─┐└───┘ ░ └╥┘┌─┐»\n",
       "       A: ─────────────────────────────────░─┤ H ├──■───░─┤ X ├──────░──╫─┤M├»\n",
       "                                           ░ └───┘┌─┴─┐ ░ └───┘      ░  ║ └╥┘»\n",
       "       B: ─────────────────────────────────░──────┤ X ├─░────────────░──╫──╫─»\n",
       "                                           ░      └───┘ ░            ░  ║  ║ »\n",
       "     a: 1/══════════════════════════════════════════════════════════════╬══╩═»\n",
       "                                                                        ║  0 »\n",
       "     b: 1/══════════════════════════════════════════════════════════════╩════»\n",
       "                                                                        0    »\n",
       "result: 1/═══════════════════════════════════════════════════════════════════»\n",
       "                                                                             »\n",
       "«           ░                                                ░ »\n",
       "«       Q: ─░────────────────────────────────────────────────░─»\n",
       "«           ░                                                ░ »\n",
       "«       A: ─░────────────────────────────────────────────────░─»\n",
       "«           ░ ┌────── ┌───┐ ───────┐ ┌────── ┌───┐ ───────┐  ░ »\n",
       "«       B: ─░─┤ If-0  ┤ X ├  End-0 ├─┤ If-0  ┤ Z ├  End-0 ├──░─»\n",
       "«           ░ └──╥─── └───┘ ───────┘ └──╥─── └───┘ ───────┘  ░ »\n",
       "«             ┌──╨──┐                   ║                      »\n",
       "«     a: 1/═══╡ 0x1 ╞═══════════════════╬══════════════════════»\n",
       "«             └─────┘                ┌──╨──┐                   »\n",
       "«     b: 1/══════════════════════════╡ 0x1 ╞═══════════════════»\n",
       "«                                    └─────┘                   »\n",
       "«result: 1/════════════════════════════════════════════════════»\n",
       "«                                                              »\n",
       "«                                           \n",
       "«       Q: ─────────────────────────────────\n",
       "«                                           \n",
       "«       A: ─────────────────────────────────\n",
       "«          ┌────────────────────────────┐┌─┐\n",
       "«       B: ┤ U(-4.1221,-5.8404,-6.2251) ├┤M├\n",
       "«          └────────────────────────────┘└╥┘\n",
       "«     a: 1/═══════════════════════════════╬═\n",
       "«                                         ║ \n",
       "«     b: 1/═══════════════════════════════╬═\n",
       "«                                         ║ \n",
       "«result: 1/═══════════════════════════════╩═\n",
       "«                                         0 </pre>"
      ],
      "text/plain": [
       "          ┌───┐┌─────────────────────────┐ ░            ░      ┌───┐ ░ ┌─┐   »\n",
       "       Q: ┤ X ├┤ U(4.1221,6.2251,5.8404) ├─░────────────░───■──┤ H ├─░─┤M├───»\n",
       "          └───┘└─────────────────────────┘ ░ ┌───┐      ░ ┌─┴─┐└───┘ ░ └╥┘┌─┐»\n",
       "       A: ─────────────────────────────────░─┤ H ├──■───░─┤ X ├──────░──╫─┤M├»\n",
       "                                           ░ └───┘┌─┴─┐ ░ └───┘      ░  ║ └╥┘»\n",
       "       B: ─────────────────────────────────░──────┤ X ├─░────────────░──╫──╫─»\n",
       "                                           ░      └───┘ ░            ░  ║  ║ »\n",
       "     a: 1/══════════════════════════════════════════════════════════════╬══╩═»\n",
       "                                                                        ║  0 »\n",
       "     b: 1/══════════════════════════════════════════════════════════════╩════»\n",
       "                                                                        0    »\n",
       "result: 1/═══════════════════════════════════════════════════════════════════»\n",
       "                                                                             »\n",
       "«           ░                                                ░ »\n",
       "«       Q: ─░────────────────────────────────────────────────░─»\n",
       "«           ░                                                ░ »\n",
       "«       A: ─░────────────────────────────────────────────────░─»\n",
       "«           ░ ┌────── ┌───┐ ───────┐ ┌────── ┌───┐ ───────┐  ░ »\n",
       "«       B: ─░─┤ If-0  ┤ X ├  End-0 ├─┤ If-0  ┤ Z ├  End-0 ├──░─»\n",
       "«           ░ └──╥─── └───┘ ───────┘ └──╥─── └───┘ ───────┘  ░ »\n",
       "«             ┌──╨──┐                   ║                      »\n",
       "«     a: 1/═══╡ 0x1 ╞═══════════════════╬══════════════════════»\n",
       "«             └─────┘                ┌──╨──┐                   »\n",
       "«     b: 1/══════════════════════════╡ 0x1 ╞═══════════════════»\n",
       "«                                    └─────┘                   »\n",
       "«result: 1/════════════════════════════════════════════════════»\n",
       "«                                                              »\n",
       "«                                           \n",
       "«       Q: ─────────────────────────────────\n",
       "«                                           \n",
       "«       A: ─────────────────────────────────\n",
       "«          ┌────────────────────────────┐┌─┐\n",
       "«       B: ┤ U(-4.1221,-5.8404,-6.2251) ├┤M├\n",
       "«          └────────────────────────────┘└╥┘\n",
       "«     a: 1/═══════════════════════════════╬═\n",
       "«                                         ║ \n",
       "«     b: 1/═══════════════════════════════╬═\n",
       "«                                         ║ \n",
       "«result: 1/═══════════════════════════════╩═\n",
       "«                                         0 "
      ]
     },
     "metadata": {},
     "output_type": "display_data"
    }
   ],
   "source": [
    "#applying the random gate to  qubit Q\n",
    "#teleportation protocol\n",
    "#we have created a testingcircuit which will test the teleportation circuit drawn above\n",
    "\n",
    "test = QuantumCircuit(qubit, ebit0, ebit1, a, b)\n",
    "test.x(qubit)\n",
    "test.append(random_gate,qubit)\n",
    "test.barrier()\n",
    "#appending entire teleportation circuit\n",
    "#the circuit beign composed should have less or same no of inputs as 'test' circuit here\n",
    "test = test.compose(protocol)\n",
    "test.barrier()\n",
    "#applying the inverse gate to Bob's one to complare the output\n",
    "test.append(random_gate.inverse(), ebit1)\n",
    "#register to store result\n",
    "result = ClassicalRegister(1,\"result\")\n",
    "test.add_register(result)\n",
    "test.measure(ebit1, result)\n",
    "\n",
    "display(test.draw())"
   ]
  },
  {
   "cell_type": "code",
   "execution_count": 45,
   "id": "42434e60",
   "metadata": {},
   "outputs": [
    {
     "data": {
      "text/plain": [
       "{'1 0 0': 254, '1 1 1': 230, '1 0 1': 265, '1 1 0': 275}"
      ]
     },
     "metadata": {},
     "output_type": "display_data"
    },
    {
     "data": {
      "image/png": "[encoded data removed]",
      "text/plain": [
       "<Figure size 640x480 with 1 Axes>"
      ]
     },
     "metadata": {},
     "output_type": "display_data"
    }
   ],
   "source": [
    "#using Aer Simulator this time to run the circuit\n",
    "result = AerSimulator().run(test).result()\n",
    "stats = result.get_counts()\n",
    "display(stats)\n",
    "display(plot_histogram(stats))"
   ]
  },
  {
   "cell_type": "code",
   "execution_count": null,
   "id": "7c100a13",
   "metadata": {},
   "outputs": [],
   "source": []
  },
  {
   "cell_type": "code",
   "execution_count": null,
   "id": "3970cae7",
   "metadata": {},
   "outputs": [],
   "source": []
  }
 ],
 "metadata": {
  "kernelspec": {
   "display_name": "Python 3 (ipykernel)",
   "language": "python",
   "name": "python3"
  },
  "language_info": {
   "codemirror_mode": {
    "name": "ipython",
    "version": 3
   },
   "file_extension": ".py",
   "mimetype": "text/x-python",
   "name": "python",
   "nbconvert_exporter": "python",
   "pygments_lexer": "ipython3",
   "version": "3.11.5"
  }
 },
 "nbformat": 4,
 "nbformat_minor": 5
}
