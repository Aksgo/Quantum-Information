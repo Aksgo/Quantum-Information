{
 "cells": [
  {
   "cell_type": "code",
   "execution_count": null,
   "id": "91c2626a",
   "metadata": {},
   "outputs": [],
   "source": [
    "!pip instal qiskit-aer"
   ]
  },
  {
   "cell_type": "code",
   "execution_count": 49,
   "id": "2471c252",
   "metadata": {},
   "outputs": [],
   "source": [
    "from qiskit import QuantumCircuit, QuantumRegister, ClassicalRegister, transpile\n",
    "from qiskit.primitives import StatevectorSampler, Sampler\n",
    "from qiskit.visualization import plot_histogram"
   ]
  },
  {
   "cell_type": "code",
   "execution_count": 6,
   "id": "7cd19256",
   "metadata": {},
   "outputs": [
    {
     "data": {
      "text/html": [
       "<pre style=\"word-wrap: normal;white-space: pre;background: #fff0;line-height: 1.1;font-family: &quot;Courier New&quot;,Courier,monospace\">    ┌───┐┌───┐\n",
       "r1: ┤ X ├┤ H ├\n",
       "    └───┘└───┘</pre>"
      ],
      "text/plain": [
       "    ┌───┐┌───┐\n",
       "r1: ┤ X ├┤ H ├\n",
       "    └───┘└───┘"
      ]
     },
     "metadata": {},
     "output_type": "display_data"
    }
   ],
   "source": [
    "par = \"latex\"\n",
    "qr = QuantumRegister(1,\"r1\")\n",
    "circuit = QuantumCircuit(qr)\n",
    "circuit.x(qr)\n",
    "circuit.h(qr)\n",
    "display(circuit.draw())"
   ]
  },
  {
   "cell_type": "code",
   "execution_count": 55,
   "id": "66e2d3e7",
   "metadata": {},
   "outputs": [
    {
     "data": {
      "text/html": [
       "<pre style=\"word-wrap: normal;white-space: pre;background: #fff0;line-height: 1.1;font-family: &quot;Courier New&quot;,Courier,monospace\">     ┌───┐     ┌─┐   \n",
       "  Y: ┤ H ├──■──┤M├───\n",
       "     └───┘┌─┴─┐└╥┘┌─┐\n",
       "  X: ─────┤ X ├─╫─┤M├\n",
       "          └───┘ ║ └╥┘\n",
       "B: 1/═══════════╩══╬═\n",
       "                0  ║ \n",
       "A: 1/══════════════╩═\n",
       "                   0 </pre>"
      ],
      "text/plain": [
       "     ┌───┐     ┌─┐   \n",
       "  Y: ┤ H ├──■──┤M├───\n",
       "     └───┘┌─┴─┐└╥┘┌─┐\n",
       "  X: ─────┤ X ├─╫─┤M├\n",
       "          └───┘ ║ └╥┘\n",
       "B: 1/═══════════╩══╬═\n",
       "                0  ║ \n",
       "A: 1/══════════════╩═\n",
       "                   0 "
      ]
     },
     "metadata": {},
     "output_type": "display_data"
    }
   ],
   "source": [
    "#including classical bits in the circuit\n",
    "#note that wires connecting classical bite are represented by double lines\n",
    "X = QuantumRegister(1,\"X\")\n",
    "Y = QuantumRegister(1,\"Y\")\n",
    "A = ClassicalRegister(1, \"A\")\n",
    "B = ClassicalRegister(1, \"B\")\n",
    "circuit = QuantumCircuit(Y, X, B, A)\n",
    "circuit.h(Y)\n",
    "circuit.cx(Y,X)#give the control qubit first then the target qubit\n",
    "circuit.measure(Y,B)\n",
    "circuit.measure(qubit=X,cbit=A)\n",
    "display(circuit.draw())\n",
    "#first parameter is the qubit, second is the classical bit"
   ]
  },
  {
   "cell_type": "code",
   "execution_count": 57,
   "id": "a353eb3d",
   "metadata": {},
   "outputs": [
    {
     "name": "stderr",
     "output_type": "stream",
     "text": [
      "C:\\Users\\akshi\\AppData\\Local\\Temp\\ipykernel_15756\\630489147.py:2: DeprecationWarning: The class ``qiskit.primitives.sampler.Sampler`` is deprecated as of qiskit 1.2. It will be removed no earlier than 3 months after the release date. All implementations of the `BaseSamplerV1` interface have been deprecated in favor of their V2 counterparts. The V2 alternative for the `Sampler` class is `StatevectorSampler`.\n",
      "  results = Sampler().run(circuit).result()\n"
     ]
    },
    {
     "data": {
      "text/plain": [
       "SamplerResult(quasi_dists=[{0: 0.5, 3: 0.5}], metadata=[{}])"
      ]
     },
     "metadata": {},
     "output_type": "display_data"
    },
    {
     "data": {
      "image/png": "[encoded data removed]",
      "text/plain": [
       "<Figure size 640x480 with 1 Axes>"
      ]
     },
     "metadata": {},
     "output_type": "display_data"
    }
   ],
   "source": [
    "#running the circuit using simulator\n",
    "results = Sampler().run(circuit).result()\n",
    "display(results)\n",
    "statistics =  results.quasi_dists[0].binary_probabilities()\n",
    "display(plot_histogram(statistics))\n",
    "#need to update to latest version"
   ]
  },
  {
   "cell_type": "code",
   "execution_count": 36,
   "id": "9d045f92",
   "metadata": {},
   "outputs": [
    {
     "name": "stdout",
     "output_type": "stream",
     "text": [
      "Help on function run in module qiskit.primitives.statevector_sampler:\n",
      "\n",
      "run(self, pubs: 'Iterable[SamplerPubLike]', *, shots: 'int | None' = None) -> 'PrimitiveJob[PrimitiveResult[SamplerPubResult]]'\n",
      "    Run and collect samples from each pub.\n",
      "    \n",
      "    Args:\n",
      "        pubs: An iterable of pub-like objects. For example, a list of circuits\n",
      "              or tuples ``(circuit, parameter_values)``.\n",
      "        shots: The total number of shots to sample for each sampler pub that does\n",
      "               not specify its own shots. If ``None``, the primitive's default\n",
      "               shots value will be used, which can vary by implementation.\n",
      "    \n",
      "    Returns:\n",
      "        The job object of Sampler's result.\n",
      "\n"
     ]
    }
   ],
   "source": [
    "help(StatevectorSampler.run)"
   ]
  },
  {
   "cell_type": "code",
   "execution_count": null,
   "id": "ea67fb45",
   "metadata": {},
   "outputs": [],
   "source": []
  }
 ],
 "metadata": {
  "kernelspec": {
   "display_name": "Python 3 (ipykernel)",
   "language": "python",
   "name": "python3"
  },
  "language_info": {
   "codemirror_mode": {
    "name": "ipython",
    "version": 3
   },
   "file_extension": ".py",
   "mimetype": "text/x-python",
   "name": "python",
   "nbconvert_exporter": "python",
   "pygments_lexer": "ipython3",
   "version": "3.11.5"
  }
 },
 "nbformat": 4,
 "nbformat_minor": 5
}
